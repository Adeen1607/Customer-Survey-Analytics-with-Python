{
  "nbformat": 4,
  "nbformat_minor": 0,
  "metadata": {
    "colab": {
      "provenance": []
    },
    "kernelspec": {
      "name": "python3",
      "display_name": "Python 3"
    },
    "language_info": {
      "name": "python"
    }
  },
  "cells": [
    {
      "cell_type": "code",
      "source": [
        "import pandas as pd\n",
        "import numpy as np"
      ],
      "metadata": {
        "id": "izy1zd1aL5W8"
      },
      "execution_count": 8,
      "outputs": []
    },
    {
      "cell_type": "code",
      "execution_count": 9,
      "metadata": {
        "id": "_uyuRGgVL3YC"
      },
      "outputs": [],
      "source": [
        "# Load your Excel files\n",
        "department_data = pd.read_excel('department_results.xlsx')\n",
        "product_data = pd.read_excel('product_results.xlsx')\n"
      ]
    },
    {
      "cell_type": "code",
      "source": [
        "# Define the number of new rows to add\n",
        "num_new_rows = 230  # Adjust this number as needed\n"
      ],
      "metadata": {
        "id": "1sQF1rqNMD5d"
      },
      "execution_count": 10,
      "outputs": []
    },
    {
      "cell_type": "code",
      "source": [
        "# Generate new rows for department data (excluding the first two columns)\n",
        "new_dept_data = np.random.randint(0, 2, size=(num_new_rows, department_data.shape[1] - 2))\n",
        "new_dept_df = pd.DataFrame(new_dept_data, columns=department_data.columns[2:])\n"
      ],
      "metadata": {
        "id": "AAj-NPmyMoUT"
      },
      "execution_count": 11,
      "outputs": []
    },
    {
      "cell_type": "code",
      "source": [
        "# Add random 'id' and 'usual_department' for new department data rows\n",
        "new_dept_df.insert(0, 'id', np.arange(department_data['id'].max() + 1, department_data['id'].max() + 1 + num_new_rows))\n",
        "new_dept_df.insert(1, 'usual_department', np.random.choice(department_data['usual_department'].unique(), num_new_rows))\n"
      ],
      "metadata": {
        "id": "L5Dj_j7WMzvO"
      },
      "execution_count": 12,
      "outputs": []
    },
    {
      "cell_type": "code",
      "source": [
        "# Append the new rows to the existing department data\n",
        "department_data_expanded = pd.concat([department_data, new_dept_df], ignore_index=True)\n"
      ],
      "metadata": {
        "id": "adIn0m6SM8S4"
      },
      "execution_count": 13,
      "outputs": []
    },
    {
      "cell_type": "code",
      "source": [
        "# Generate new rows for product data (excluding the first two columns)\n",
        "new_prod_data = np.random.randint(0, 2, size=(num_new_rows, product_data.shape[1] - 2))\n",
        "new_prod_df = pd.DataFrame(new_prod_data, columns=product_data.columns[2:])"
      ],
      "metadata": {
        "id": "YK7AdG4OPeK8"
      },
      "execution_count": 17,
      "outputs": []
    },
    {
      "cell_type": "code",
      "source": [
        "# Generate new rows for department data (excluding the first two columns)\n",
        "new_dept_data = np.random.randint(0, 2, size=(num_new_rows, department_data.shape[1] - 2))\n",
        "new_dept_df = pd.DataFrame(new_dept_data, columns=department_data.columns[2:])\n",
        "\n",
        "# Add random 'id' and 'usual_department' for new department data rows\n",
        "new_dept_df.insert(0, 'id', np.arange(department_data['id'].max() + 1, department_data['id'].max() + 1 + num_new_rows))\n",
        "new_dept_df.insert(1, 'usual_department', np.random.choice(department_data['usual_department'].unique(), num_new_rows))\n"
      ],
      "metadata": {
        "id": "YUaVkv4mQOit"
      },
      "execution_count": 18,
      "outputs": []
    },
    {
      "cell_type": "code",
      "source": [
        "# Append the new rows to the existing department data\n",
        "department_data_expanded = pd.concat([department_data, new_dept_df], ignore_index=True)\n",
        "\n",
        "# Generate new rows for product data (excluding the first two columns)\n",
        "new_prod_data = np.random.randint(0, 2, size=(num_new_rows, product_data.shape[1] - 2))\n",
        "new_prod_df = pd.DataFrame(new_prod_data, columns=product_data.columns[2:])\n",
        "\n",
        "# Add random 'id' and 'frequent products' for new product data rows\n",
        "new_prod_df.insert(0, 'id', np.arange(product_data['id'].max() + 1, product_data['id'].max() + 1 + num_new_rows))\n",
        "new_prod_df.insert(1, 'frequent products', np.random.choice(product_data['frequent_products'].unique(), num_new_rows))\n",
        "\n",
        "# Append the new rows to the existing product data\n",
        "product_data_expanded = pd.concat([product_data, new_prod_df], ignore_index=True)\n"
      ],
      "metadata": {
        "id": "CYFm577mQdss"
      },
      "execution_count": 20,
      "outputs": []
    },
    {
      "cell_type": "code",
      "source": [
        "department_data_expanded.to_excel('department_results_expanded.xlsx', index=False)\n",
        "product_data_expanded.to_excel('product_results_expanded.xlsx', index=False)"
      ],
      "metadata": {
        "colab": {
          "base_uri": "https://localhost:8080/"
        },
        "id": "btCl-7QZPhQY",
        "outputId": "ecdb5367-70d6-4bf5-8c28-070fb4e30ceb"
      },
      "execution_count": 16,
      "outputs": [
        {
          "output_type": "stream",
          "name": "stdout",
          "text": [
            "Department Data Columns: Index(['id', 'usual_department', 'Bakery', 'Dairy', 'Fresh Produce',\n",
            "       'Frozen Foods', 'International', 'Meat & Seafood', 'Personal Care',\n",
            "       'Snacks & Beverages'],\n",
            "      dtype='object')\n",
            "Product Data Columns: Index(['id', 'frequent_products', 'Beverages (Juice, Soda, Water, etc.)',\n",
            "       'Bread and Bakery Items', 'Dairy Products (Milk, Cheese, Yogurt, etc.)',\n",
            "       'Fresh Fruits and Vegetables', 'Frozen Foods',\n",
            "       'Household Cleaning Products', 'Meat and Poultry', 'Seafood'],\n",
            "      dtype='object')\n"
          ]
        }
      ]
    },
    {
      "cell_type": "code",
      "source": [],
      "metadata": {
        "id": "wyQ4kC7dQCKp"
      },
      "execution_count": null,
      "outputs": []
    }
  ]
}